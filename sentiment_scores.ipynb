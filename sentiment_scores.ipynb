{
 "cells": [
  {
   "cell_type": "code",
   "execution_count": 1,
   "id": "f1c22dcb",
   "metadata": {},
   "outputs": [],
   "source": [
    "import pandas as pd\n",
    "import numpy as np"
   ]
  },
  {
   "cell_type": "code",
   "execution_count": 2,
   "id": "5a80fa3b",
   "metadata": {},
   "outputs": [],
   "source": [
    "df = pd.read_csv('senticnet6_polarity.py')"
   ]
  },
  {
   "cell_type": "code",
   "execution_count": 3,
   "id": "4c519f4e",
   "metadata": {},
   "outputs": [],
   "source": [
    "# For sentiment score get last 2 characters and turn them into an int\n",
    "\n",
    "df['sentiment'] = df['senticnet6 = {}'].str[-2:].astype(int)"
   ]
  },
  {
   "cell_type": "code",
   "execution_count": 4,
   "id": "050d517c",
   "metadata": {},
   "outputs": [
    {
     "data": {
      "text/html": [
       "<div>\n",
       "<style scoped>\n",
       "    .dataframe tbody tr th:only-of-type {\n",
       "        vertical-align: middle;\n",
       "    }\n",
       "\n",
       "    .dataframe tbody tr th {\n",
       "        vertical-align: top;\n",
       "    }\n",
       "\n",
       "    .dataframe thead th {\n",
       "        text-align: right;\n",
       "    }\n",
       "</style>\n",
       "<table border=\"1\" class=\"dataframe\">\n",
       "  <thead>\n",
       "    <tr style=\"text-align: right;\">\n",
       "      <th></th>\n",
       "      <th>senticnet6 = {}</th>\n",
       "      <th>sentiment</th>\n",
       "    </tr>\n",
       "  </thead>\n",
       "  <tbody>\n",
       "    <tr>\n",
       "      <th>0</th>\n",
       "      <td>senticnet6['1st_class'] = 1</td>\n",
       "      <td>1</td>\n",
       "    </tr>\n",
       "    <tr>\n",
       "      <th>1</th>\n",
       "      <td>senticnet6['a1'] = 1</td>\n",
       "      <td>1</td>\n",
       "    </tr>\n",
       "    <tr>\n",
       "      <th>2</th>\n",
       "      <td>senticnet6['aapl'] = 1</td>\n",
       "      <td>1</td>\n",
       "    </tr>\n",
       "    <tr>\n",
       "      <th>3</th>\n",
       "      <td>senticnet6['abalone'] = 1</td>\n",
       "      <td>1</td>\n",
       "    </tr>\n",
       "    <tr>\n",
       "      <th>4</th>\n",
       "      <td>senticnet6['abandon'] = -1</td>\n",
       "      <td>-1</td>\n",
       "    </tr>\n",
       "  </tbody>\n",
       "</table>\n",
       "</div>"
      ],
      "text/plain": [
       "               senticnet6 = {}  sentiment\n",
       "0  senticnet6['1st_class'] = 1          1\n",
       "1         senticnet6['a1'] = 1          1\n",
       "2       senticnet6['aapl'] = 1          1\n",
       "3    senticnet6['abalone'] = 1          1\n",
       "4   senticnet6['abandon'] = -1         -1"
      ]
     },
     "execution_count": 4,
     "metadata": {},
     "output_type": "execute_result"
    }
   ],
   "source": [
    "df.head()"
   ]
  },
  {
   "cell_type": "code",
   "execution_count": 5,
   "id": "c5a3b7fd",
   "metadata": {},
   "outputs": [],
   "source": [
    "# Based on sentiment conditionally select first 12 characters and last 6 or 7\n",
    "\n",
    "df['word'] = np.where(df['sentiment'] == 1,df['senticnet6 = {}'].str[12:-6], df['senticnet6 = {}'].str[12:-7])"
   ]
  },
  {
   "cell_type": "code",
   "execution_count": 6,
   "id": "3e07160e",
   "metadata": {},
   "outputs": [
    {
     "data": {
      "text/html": [
       "<div>\n",
       "<style scoped>\n",
       "    .dataframe tbody tr th:only-of-type {\n",
       "        vertical-align: middle;\n",
       "    }\n",
       "\n",
       "    .dataframe tbody tr th {\n",
       "        vertical-align: top;\n",
       "    }\n",
       "\n",
       "    .dataframe thead th {\n",
       "        text-align: right;\n",
       "    }\n",
       "</style>\n",
       "<table border=\"1\" class=\"dataframe\">\n",
       "  <thead>\n",
       "    <tr style=\"text-align: right;\">\n",
       "      <th></th>\n",
       "      <th>senticnet6 = {}</th>\n",
       "      <th>sentiment</th>\n",
       "      <th>word</th>\n",
       "    </tr>\n",
       "  </thead>\n",
       "  <tbody>\n",
       "    <tr>\n",
       "      <th>0</th>\n",
       "      <td>senticnet6['1st_class'] = 1</td>\n",
       "      <td>1</td>\n",
       "      <td>1st_class</td>\n",
       "    </tr>\n",
       "    <tr>\n",
       "      <th>1</th>\n",
       "      <td>senticnet6['a1'] = 1</td>\n",
       "      <td>1</td>\n",
       "      <td>a1</td>\n",
       "    </tr>\n",
       "    <tr>\n",
       "      <th>2</th>\n",
       "      <td>senticnet6['aapl'] = 1</td>\n",
       "      <td>1</td>\n",
       "      <td>aapl</td>\n",
       "    </tr>\n",
       "    <tr>\n",
       "      <th>3</th>\n",
       "      <td>senticnet6['abalone'] = 1</td>\n",
       "      <td>1</td>\n",
       "      <td>abalone</td>\n",
       "    </tr>\n",
       "    <tr>\n",
       "      <th>4</th>\n",
       "      <td>senticnet6['abandon'] = -1</td>\n",
       "      <td>-1</td>\n",
       "      <td>abandon</td>\n",
       "    </tr>\n",
       "  </tbody>\n",
       "</table>\n",
       "</div>"
      ],
      "text/plain": [
       "               senticnet6 = {}  sentiment       word\n",
       "0  senticnet6['1st_class'] = 1          1  1st_class\n",
       "1         senticnet6['a1'] = 1          1         a1\n",
       "2       senticnet6['aapl'] = 1          1       aapl\n",
       "3    senticnet6['abalone'] = 1          1    abalone\n",
       "4   senticnet6['abandon'] = -1         -1    abandon"
      ]
     },
     "execution_count": 6,
     "metadata": {},
     "output_type": "execute_result"
    }
   ],
   "source": [
    "df.head()"
   ]
  },
  {
   "cell_type": "code",
   "execution_count": 7,
   "id": "8bbe957c",
   "metadata": {},
   "outputs": [
    {
     "data": {
      "text/plain": [
       "False"
      ]
     },
     "execution_count": 7,
     "metadata": {},
     "output_type": "execute_result"
    }
   ],
   "source": [
    "df['word'].isnull().values.any()"
   ]
  },
  {
   "cell_type": "code",
   "execution_count": 8,
   "id": "6747a890",
   "metadata": {},
   "outputs": [
    {
     "data": {
      "text/plain": [
       "False"
      ]
     },
     "execution_count": 8,
     "metadata": {},
     "output_type": "execute_result"
    }
   ],
   "source": [
    "df['sentiment'].isnull().values.any()"
   ]
  },
  {
   "cell_type": "code",
   "execution_count": null,
   "id": "a5cfd095",
   "metadata": {},
   "outputs": [],
   "source": [
    "# find underscores\n",
    "\n",
    "df[df.word.str.contains(r'[_]')]"
   ]
  },
  {
   "cell_type": "code",
   "execution_count": 9,
   "id": "af1047a9",
   "metadata": {},
   "outputs": [],
   "source": [
    "# new dataframe with no underscores\n",
    "\n",
    "new_df = df[df.word.str.contains(r'[_]') == False]"
   ]
  },
  {
   "cell_type": "code",
   "execution_count": 10,
   "id": "497bed75",
   "metadata": {},
   "outputs": [
    {
     "data": {
      "text/html": [
       "<div>\n",
       "<style scoped>\n",
       "    .dataframe tbody tr th:only-of-type {\n",
       "        vertical-align: middle;\n",
       "    }\n",
       "\n",
       "    .dataframe tbody tr th {\n",
       "        vertical-align: top;\n",
       "    }\n",
       "\n",
       "    .dataframe thead th {\n",
       "        text-align: right;\n",
       "    }\n",
       "</style>\n",
       "<table border=\"1\" class=\"dataframe\">\n",
       "  <thead>\n",
       "    <tr style=\"text-align: right;\">\n",
       "      <th></th>\n",
       "      <th>senticnet6 = {}</th>\n",
       "      <th>sentiment</th>\n",
       "      <th>word</th>\n",
       "    </tr>\n",
       "  </thead>\n",
       "  <tbody>\n",
       "    <tr>\n",
       "      <th>1</th>\n",
       "      <td>senticnet6['a1'] = 1</td>\n",
       "      <td>1</td>\n",
       "      <td>a1</td>\n",
       "    </tr>\n",
       "    <tr>\n",
       "      <th>2</th>\n",
       "      <td>senticnet6['aapl'] = 1</td>\n",
       "      <td>1</td>\n",
       "      <td>aapl</td>\n",
       "    </tr>\n",
       "    <tr>\n",
       "      <th>3</th>\n",
       "      <td>senticnet6['abalone'] = 1</td>\n",
       "      <td>1</td>\n",
       "      <td>abalone</td>\n",
       "    </tr>\n",
       "    <tr>\n",
       "      <th>4</th>\n",
       "      <td>senticnet6['abandon'] = -1</td>\n",
       "      <td>-1</td>\n",
       "      <td>abandon</td>\n",
       "    </tr>\n",
       "    <tr>\n",
       "      <th>12</th>\n",
       "      <td>senticnet6['abandoned'] = -1</td>\n",
       "      <td>-1</td>\n",
       "      <td>abandoned</td>\n",
       "    </tr>\n",
       "    <tr>\n",
       "      <th>...</th>\n",
       "      <td>...</td>\n",
       "      <td>...</td>\n",
       "      <td>...</td>\n",
       "    </tr>\n",
       "    <tr>\n",
       "      <th>199984</th>\n",
       "      <td>senticnet6['zoonotic'] = 1</td>\n",
       "      <td>1</td>\n",
       "      <td>zoonotic</td>\n",
       "    </tr>\n",
       "    <tr>\n",
       "      <th>199986</th>\n",
       "      <td>senticnet6['zoophilia'] = -1</td>\n",
       "      <td>-1</td>\n",
       "      <td>zoophilia</td>\n",
       "    </tr>\n",
       "    <tr>\n",
       "      <th>199988</th>\n",
       "      <td>senticnet6['zor'] = 1</td>\n",
       "      <td>1</td>\n",
       "      <td>zor</td>\n",
       "    </tr>\n",
       "    <tr>\n",
       "      <th>199990</th>\n",
       "      <td>senticnet6['zorro'] = -1</td>\n",
       "      <td>-1</td>\n",
       "      <td>zorro</td>\n",
       "    </tr>\n",
       "    <tr>\n",
       "      <th>199991</th>\n",
       "      <td>senticnet6['zotob'] = -1</td>\n",
       "      <td>-1</td>\n",
       "      <td>zotob</td>\n",
       "    </tr>\n",
       "  </tbody>\n",
       "</table>\n",
       "<p>45757 rows × 3 columns</p>\n",
       "</div>"
      ],
      "text/plain": [
       "                     senticnet6 = {}  sentiment       word\n",
       "1               senticnet6['a1'] = 1          1         a1\n",
       "2             senticnet6['aapl'] = 1          1       aapl\n",
       "3          senticnet6['abalone'] = 1          1    abalone\n",
       "4         senticnet6['abandon'] = -1         -1    abandon\n",
       "12      senticnet6['abandoned'] = -1         -1  abandoned\n",
       "...                              ...        ...        ...\n",
       "199984    senticnet6['zoonotic'] = 1          1   zoonotic\n",
       "199986  senticnet6['zoophilia'] = -1         -1  zoophilia\n",
       "199988         senticnet6['zor'] = 1          1        zor\n",
       "199990      senticnet6['zorro'] = -1         -1      zorro\n",
       "199991      senticnet6['zotob'] = -1         -1      zotob\n",
       "\n",
       "[45757 rows x 3 columns]"
      ]
     },
     "execution_count": 10,
     "metadata": {},
     "output_type": "execute_result"
    }
   ],
   "source": [
    "new_df"
   ]
  },
  {
   "cell_type": "code",
   "execution_count": 11,
   "id": "438c9cef",
   "metadata": {},
   "outputs": [
    {
     "name": "stderr",
     "output_type": "stream",
     "text": [
      "/Users/kat/opt/anaconda3/lib/python3.8/site-packages/pandas/core/frame.py:4308: SettingWithCopyWarning: \n",
      "A value is trying to be set on a copy of a slice from a DataFrame\n",
      "\n",
      "See the caveats in the documentation: https://pandas.pydata.org/pandas-docs/stable/user_guide/indexing.html#returning-a-view-versus-a-copy\n",
      "  return super().drop(\n"
     ]
    }
   ],
   "source": [
    "# drop unnnessessary column\n",
    "\n",
    "new_df.drop('senticnet6 = {}', axis=1, inplace=True)"
   ]
  },
  {
   "cell_type": "code",
   "execution_count": 17,
   "id": "1b04c6dd",
   "metadata": {},
   "outputs": [
    {
     "data": {
      "text/html": [
       "<div>\n",
       "<style scoped>\n",
       "    .dataframe tbody tr th:only-of-type {\n",
       "        vertical-align: middle;\n",
       "    }\n",
       "\n",
       "    .dataframe tbody tr th {\n",
       "        vertical-align: top;\n",
       "    }\n",
       "\n",
       "    .dataframe thead th {\n",
       "        text-align: right;\n",
       "    }\n",
       "</style>\n",
       "<table border=\"1\" class=\"dataframe\">\n",
       "  <thead>\n",
       "    <tr style=\"text-align: right;\">\n",
       "      <th></th>\n",
       "      <th>sentiment</th>\n",
       "      <th>word</th>\n",
       "    </tr>\n",
       "  </thead>\n",
       "  <tbody>\n",
       "    <tr>\n",
       "      <th>1</th>\n",
       "      <td>1</td>\n",
       "      <td>a1</td>\n",
       "    </tr>\n",
       "    <tr>\n",
       "      <th>2</th>\n",
       "      <td>1</td>\n",
       "      <td>aapl</td>\n",
       "    </tr>\n",
       "    <tr>\n",
       "      <th>3</th>\n",
       "      <td>1</td>\n",
       "      <td>abalone</td>\n",
       "    </tr>\n",
       "    <tr>\n",
       "      <th>4</th>\n",
       "      <td>-1</td>\n",
       "      <td>abandon</td>\n",
       "    </tr>\n",
       "    <tr>\n",
       "      <th>12</th>\n",
       "      <td>-1</td>\n",
       "      <td>abandoned</td>\n",
       "    </tr>\n",
       "    <tr>\n",
       "      <th>...</th>\n",
       "      <td>...</td>\n",
       "      <td>...</td>\n",
       "    </tr>\n",
       "    <tr>\n",
       "      <th>199984</th>\n",
       "      <td>1</td>\n",
       "      <td>zoonotic</td>\n",
       "    </tr>\n",
       "    <tr>\n",
       "      <th>199986</th>\n",
       "      <td>-1</td>\n",
       "      <td>zoophilia</td>\n",
       "    </tr>\n",
       "    <tr>\n",
       "      <th>199988</th>\n",
       "      <td>1</td>\n",
       "      <td>zor</td>\n",
       "    </tr>\n",
       "    <tr>\n",
       "      <th>199990</th>\n",
       "      <td>-1</td>\n",
       "      <td>zorro</td>\n",
       "    </tr>\n",
       "    <tr>\n",
       "      <th>199991</th>\n",
       "      <td>-1</td>\n",
       "      <td>zotob</td>\n",
       "    </tr>\n",
       "  </tbody>\n",
       "</table>\n",
       "<p>45757 rows × 2 columns</p>\n",
       "</div>"
      ],
      "text/plain": [
       "        sentiment       word\n",
       "1               1         a1\n",
       "2               1       aapl\n",
       "3               1    abalone\n",
       "4              -1    abandon\n",
       "12             -1  abandoned\n",
       "...           ...        ...\n",
       "199984          1   zoonotic\n",
       "199986         -1  zoophilia\n",
       "199988          1        zor\n",
       "199990         -1      zorro\n",
       "199991         -1      zotob\n",
       "\n",
       "[45757 rows x 2 columns]"
      ]
     },
     "execution_count": 17,
     "metadata": {},
     "output_type": "execute_result"
    }
   ],
   "source": [
    "new_df"
   ]
  },
  {
   "cell_type": "code",
   "execution_count": 20,
   "id": "1006f334",
   "metadata": {},
   "outputs": [],
   "source": [
    "new_df.to_csv('sentiment_scores.csv',index = False)"
   ]
  },
  {
   "cell_type": "code",
   "execution_count": null,
   "id": "f7fbf2e3",
   "metadata": {},
   "outputs": [],
   "source": []
  }
 ],
 "metadata": {
  "kernelspec": {
   "display_name": "Python 3",
   "language": "python",
   "name": "python3"
  },
  "language_info": {
   "codemirror_mode": {
    "name": "ipython",
    "version": 3
   },
   "file_extension": ".py",
   "mimetype": "text/x-python",
   "name": "python",
   "nbconvert_exporter": "python",
   "pygments_lexer": "ipython3",
   "version": "3.8.8"
  }
 },
 "nbformat": 4,
 "nbformat_minor": 5
}
