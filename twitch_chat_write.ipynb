{
 "cells": [
  {
   "cell_type": "code",
   "execution_count": null,
   "id": "4e88841f",
   "metadata": {},
   "outputs": [],
   "source": [
    "# Imports\n",
    "\n",
    "import socket\n",
    "from emoji import demojize\n",
    "import pandas as pd\n",
    "import re\n",
    "from datetime import datetime, timedelta\n",
    "from collections import Counter"
   ]
  },
  {
   "cell_type": "code",
   "execution_count": null,
   "id": "017a69c9",
   "metadata": {},
   "outputs": [],
   "source": [
    "# Constants, hide these\n",
    "# In order for this to work, use your twitch username for nickname and get a token at https://twitchapps.com/tmi/\n",
    "\n",
    "server = 'irc.chat.twitch.tv'\n",
    "port = 6667\n",
    "channel = 'symfuhny'\n",
    "nickname = ''\n",
    "token = ''\n",
    "data = []\n",
    "delta = timedelta(minutes = 1)\n",
    "sentiment_df = pd.read_csv('sentiment_scores.csv', index_col = \"word\")"
   ]
  },
  {
   "cell_type": "code",
   "execution_count": null,
   "id": "9f4c5dcb",
   "metadata": {},
   "outputs": [],
   "source": [
    "# Method to extract important information from twitch calls and write them to data frame\n",
    "# format for regex reference :larocke!larocke@larocke.tmi.twitch.tv PRIVMSG #larocke :8\n",
    "\n",
    "def add_chat_dataframe(line):\n",
    "    now = datetime.now()\n",
    "    try:\n",
    "\n",
    "        username, channel, message = re.search(':(.*)\\!.*@.*\\.tmi\\.twitch\\.tv PRIVMSG #(.*) :(.*)', line).groups()\n",
    "\n",
    "        d = {\n",
    "            'dt': now,\n",
    "            'channel': channel,\n",
    "            'username': username,\n",
    "            'message': message\n",
    "        }\n",
    "\n",
    "        data.append(d)\n",
    "            \n",
    "    except Exception:\n",
    "        pass\n",
    "    \n",
    "    # Once a comment is added anything older than time delta is deleted. Will only work for big stream.\n",
    "    \n",
    "    for i in data:\n",
    "        if i['dt'] < now - delta:\n",
    "            data.remove(i)"
   ]
  },
  {
   "cell_type": "code",
   "execution_count": null,
   "id": "cdd3b5a9",
   "metadata": {},
   "outputs": [],
   "source": [
    "# parses through words, and finds their sentiment scores which are added to the return value\n",
    "\n",
    "def get_sentiment_score(words):\n",
    "    result = 0\n",
    "    \n",
    "    for word in words:\n",
    "        try:\n",
    "            result += sentiment_df.loc[word].sentiment.item()\n",
    "        except:\n",
    "            pass\n",
    "    \n",
    "    return result"
   ]
  },
  {
   "cell_type": "code",
   "execution_count": null,
   "id": "d2006def",
   "metadata": {},
   "outputs": [],
   "source": [
    "# splits current dataframe into words and finds most common one and calls for sentiment score\n",
    "\n",
    "def get_info():\n",
    "    words = []\n",
    "    for i in data:\n",
    "        split_sentence = i['message'].split()\n",
    "        for j in split_sentence:\n",
    "            words.append(j)\n",
    "        \n",
    "    top_one = Counter(words).most_common(1)\n",
    "    sentiment_score = get_sentiment_score(words)\n",
    "    \n",
    "    print(top_one, sentiment_score)"
   ]
  },
  {
   "cell_type": "code",
   "execution_count": null,
   "id": "9ea4d658",
   "metadata": {},
   "outputs": [],
   "source": [
    "# Imports Initializations\n",
    "\n",
    "s = socket.socket()\n",
    "s.connect((server, port))"
   ]
  },
  {
   "cell_type": "code",
   "execution_count": null,
   "id": "7156181e",
   "metadata": {},
   "outputs": [],
   "source": [
    "# Sending oatharization info to twitch\n",
    "\n",
    "s.send(f\"PASS {token}\\n\".encode('utf-8'))\n",
    "s.send(f\"NICK {nickname}\\n\".encode('utf-8'))\n",
    "s.send(f\"JOIN #{channel}\\n\".encode('utf-8'))"
   ]
  },
  {
   "cell_type": "code",
   "execution_count": null,
   "id": "37a5875e",
   "metadata": {},
   "outputs": [],
   "source": [
    "resp = s.recv(2048).decode('utf-8').lower()"
   ]
  },
  {
   "cell_type": "code",
   "execution_count": null,
   "id": "1292aadd",
   "metadata": {},
   "outputs": [],
   "source": [
    "# Main loop that monitors chat, writes to dataframe and calls for overall sentiment\n",
    "\n",
    "while True:\n",
    "    resp = s.recv(2048).decode('utf-8').lower()\n",
    "\n",
    "    if resp.startswith('PING'):\n",
    "        s.send(\"PONG\\n\".encode('utf-8'))\n",
    "    \n",
    "    elif len(resp) > 0:\n",
    "        add_chat_dataframe(demojize(resp))\n",
    "        get_info()\n",
    "        "
   ]
  }
 ],
 "metadata": {
  "kernelspec": {
   "display_name": "Python 3",
   "language": "python",
   "name": "python3"
  },
  "language_info": {
   "codemirror_mode": {
    "name": "ipython",
    "version": 3
   },
   "file_extension": ".py",
   "mimetype": "text/x-python",
   "name": "python",
   "nbconvert_exporter": "python",
   "pygments_lexer": "ipython3",
   "version": "3.8.8"
  }
 },
 "nbformat": 4,
 "nbformat_minor": 5
}
